{
 "cells": [
  {
   "cell_type": "markdown",
   "id": "4dd839fa-0eda-448d-9ac1-2e6ad44dde15",
   "metadata": {
    "tags": []
   },
   "source": [
    "# Data Science Tools and Ecosystem\n"
   ]
  },
  {
   "cell_type": "markdown",
   "id": "afe9bc34-3868-4f09-9e45-2f2381b06941",
   "metadata": {},
   "source": [
    "# In this notebook, Data Science Tools and Ecosystem are summarized."
   ]
  },
  {
   "cell_type": "markdown",
   "id": "50208c74-abbe-446a-9d43-5e93da198546",
   "metadata": {},
   "source": [
    "# Some of the popular languages that Data Scientists use are:\n",
    "1. Python\n",
    "2. R\n",
    "3. SQL\n",
    "4. Julia \n"
   ]
  },
  {
   "cell_type": "markdown",
   "id": "e7e26f15-0599-49ad-aa9f-eea34c8f8626",
   "metadata": {},
   "source": [
    "# Some of the commonly used libraries used by Data Scientists include:\n",
    "1. Pandas\n",
    "2. NumPy\n",
    "3. Scikit-Learn\n"
   ]
  },
  {
   "cell_type": "markdown",
   "id": "6828ac7d-0f9c-4cbb-808a-26cd5ddd0cb3",
   "metadata": {},
   "source": [
    "| Data Science Tools |\n",
    "|--------------------|\n",
    "| JupyterLab         |\n",
    "| RStudio            |\n",
    "| Apache Zeppelin    |\n"
   ]
  },
  {
   "cell_type": "markdown",
   "id": "a9e3e710-4aa7-47b2-9d94-11f453c4dccc",
   "metadata": {},
   "source": [
    "### Below are a few examples of evaluating arithmetic expressions in Python\n",
    "\n",
    "```python\n",
    "# Addition\n",
    "print(2 + 3)  # Output: 5\n",
    "\n",
    "# Subtraction\n",
    "print(5 - 3)  # Output: 2\n",
    "\n",
    "# Multiplication\n",
    "print(2 * 3)  # Output: 6\n",
    "\n",
    "# Division\n",
    "print(6 / 3)  # Output: 2.0\n",
    "\n",
    "# Exponentiation\n",
    "print(2 ** 3)  # Output: 8\n",
    "\n",
    "# Modulus\n",
    "print(5 % 2)  # Output: 1\n"
   ]
  },
  {
   "cell_type": "code",
   "execution_count": 4,
   "id": "6016972d-85d4-4f53-954b-d7217b806f8c",
   "metadata": {
    "tags": []
   },
   "outputs": [
    {
     "name": "stdout",
     "output_type": "stream",
     "text": [
      "17\n"
     ]
    }
   ],
   "source": [
    "# This is a simple arithmetic expression to multiply then add integers\n",
    "result = (3*4) + 5\n",
    "print(result)  # This should print the number 17\n"
   ]
  },
  {
   "cell_type": "code",
   "execution_count": 5,
   "id": "50df5b36-4a65-43e3-97c7-327c481d2ab5",
   "metadata": {
    "tags": []
   },
   "outputs": [
    {
     "name": "stdout",
     "output_type": "stream",
     "text": [
      "3.3333333333333335\n"
     ]
    }
   ],
   "source": [
    "# This will convert 200 minutes to hours by dividing by 60\n",
    "minutes = 200\n",
    "hours = minutes / 60\n",
    "print(hours)  # This will output the number of hours\n"
   ]
  },
  {
   "cell_type": "markdown",
   "id": "546ea9bd-eb56-4b8f-9616-0885fd7e0b0c",
   "metadata": {
    "tags": []
   },
   "source": [
    "**Objectives:**\n",
    "- List popular languages for Data Science.\n",
    "- Some commonly used libraries used by data scientists.\n",
    "- Important tools used in Data Science.\n",
    "- Some examples of evaluating arithmetic expressions in python.\n"
   ]
  },
  {
   "cell_type": "markdown",
   "id": "e48156b0-c8e8-4564-9f74-ce175d3c0e67",
   "metadata": {},
   "source": [
    "## Author\n",
    "Anjali Saumithri Devi\n"
   ]
  },
  {
   "cell_type": "code",
   "execution_count": null,
   "id": "38ad8969-2a21-4702-99ff-ace247001f14",
   "metadata": {},
   "outputs": [],
   "source": []
  }
 ],
 "metadata": {
  "kernelspec": {
   "display_name": "Python",
   "language": "python",
   "name": "conda-env-python-py"
  },
  "language_info": {
   "codemirror_mode": {
    "name": "ipython",
    "version": 3
   },
   "file_extension": ".py",
   "mimetype": "text/x-python",
   "name": "python",
   "nbconvert_exporter": "python",
   "pygments_lexer": "ipython3",
   "version": "3.7.12"
  }
 },
 "nbformat": 4,
 "nbformat_minor": 5
}
